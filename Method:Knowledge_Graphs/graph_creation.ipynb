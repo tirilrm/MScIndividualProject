{
 "cells": [
  {
   "cell_type": "markdown",
   "metadata": {},
   "source": [
    "## Create Knowledge Graphs\n",
    "#### Script for making many Knowledge Graphs (KGs) at once."
   ]
  },
  {
   "cell_type": "code",
   "execution_count": 5,
   "metadata": {},
   "outputs": [
    {
     "data": {
      "text/plain": [
       "<module 'helper_functions' from '/Users/tiril/Documents/IndividualProject/nuclear_repo/knowledge_graphs/helper_functions.py'>"
      ]
     },
     "execution_count": 5,
     "metadata": {},
     "output_type": "execute_result"
    }
   ],
   "source": [
    "import json\n",
    "import matplotlib.pyplot as plt\n",
    "import os\n",
    "import importlib\n",
    "import helper_functions as hf\n",
    "importlib.reload(hf)"
   ]
  },
  {
   "cell_type": "code",
   "execution_count": 6,
   "metadata": {},
   "outputs": [],
   "source": [
    "# Original data\n",
    "#base_directory = 'data'\n",
    "#save_directory = 'graphs/base'\n",
    "\n",
    "# 'Advanced' data (i.e. only retrieve nodes for top decile)\n",
    "#base_directory = 'data/triplets_with_frequency'\n",
    "#save_directory = 'graphs/triplets_with_frequency'\n",
    "\n",
    "# 'Advanced' with no cutoff:\n",
    "base_directory = 'data/triplets_no_cutoff'\n",
    "save_directory = 'graphs/triplets_no_cutoff'\n",
    "\n",
    "# Load the data\n",
    "with open(base_directory + '/graphs.json', 'r') as file:\n",
    "    results = json.load(file)"
   ]
  },
  {
   "cell_type": "code",
   "execution_count": 7,
   "metadata": {},
   "outputs": [
    {
     "name": "stdout",
     "output_type": "stream",
     "text": [
      "Making graphs for Westinghouse...\n"
     ]
    }
   ],
   "source": [
    "# Make graphs at different depths, pruned in different ways\n",
    "directions = [\n",
    "    'bidirectional_and', \n",
    "    #'forward', \n",
    "    #'backward'\n",
    "]\n",
    "\n",
    "max_depths = [1,2,3]\n",
    "\n",
    "save = True\n",
    "count = 1\n",
    "#['Framatome', 'Westinghouse', 'BWX']\n",
    "for root in results:\n",
    "    print(f'Making graphs for {root}...')\n",
    "    root_node = (root, 'ORG')\n",
    "\n",
    "    folder_name = root.lower().replace(' ', '_')\n",
    "    folder_path = os.path.join(save_directory, folder_name)\n",
    "\n",
    "    G = hf.make_graph(results[root])\n",
    "\n",
    "    for direction in directions:\n",
    "        try:\n",
    "            for max_depth in max_depths:\n",
    "                G_copy = G.copy()\n",
    "                G_pruned = hf.prune_graph_by_depth(G_copy, root_node, max_depth, direction)\n",
    "                num_nodes = G_pruned.number_of_nodes()\n",
    "                fig, ax = hf.view_graph(G_pruned, root_node, max_depth, direction, num_nodes)\n",
    "                if save:\n",
    "                    os.makedirs(folder_path, exist_ok=True)\n",
    "                    filepath = os.path.join(folder_path, f\"{root}_{direction}_{max_depth}_ROUND.png\")\n",
    "                    plt.savefig(filepath, format='png', bbox_inches='tight')\n",
    "                    #plt.savefig(f'graphs/triplets_no_cutoff/depth={max_depth}/image{count}_legend.png')\n",
    "                    count += 1\n",
    "                plt.close(fig)\n",
    "        except Exception as e:\n",
    "            print(e)\n",
    "    #break"
   ]
  }
 ],
 "metadata": {
  "kernelspec": {
   "display_name": "env",
   "language": "python",
   "name": "python3"
  },
  "language_info": {
   "codemirror_mode": {
    "name": "ipython",
    "version": 3
   },
   "file_extension": ".py",
   "mimetype": "text/x-python",
   "name": "python",
   "nbconvert_exporter": "python",
   "pygments_lexer": "ipython3",
   "version": "3.10.13"
  }
 },
 "nbformat": 4,
 "nbformat_minor": 2
}
